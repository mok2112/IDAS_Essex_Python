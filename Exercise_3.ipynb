{
  "nbformat": 4,
  "nbformat_minor": 0,
  "metadata": {
    "kernelspec": {
      "display_name": "Python 3",
      "language": "python",
      "name": "python3"
    },
    "language_info": {
      "codemirror_mode": {
        "name": "ipython",
        "version": 3
      },
      "file_extension": ".py",
      "mimetype": "text/x-python",
      "name": "python",
      "nbconvert_exporter": "python",
      "pygments_lexer": "ipython3",
      "version": "3.6.5"
    },
    "colab": {
      "name": "Exercise_3.ipynb",
      "provenance": [],
      "include_colab_link": true
    }
  },
  "cells": [
    {
      "cell_type": "markdown",
      "metadata": {
        "id": "view-in-github",
        "colab_type": "text"
      },
      "source": [
        "<a href=\"https://colab.research.google.com/github/mok2112/IDAS_Essex_Python/blob/main/Exercise_3.ipynb\" target=\"_parent\"><img src=\"https://colab.research.google.com/assets/colab-badge.svg\" alt=\"Open In Colab\"/></a>"
      ]
    },
    {
      "cell_type": "markdown",
      "metadata": {
        "id": "iyuiqT_heSRl"
      },
      "source": [
        "### Data Structures\n",
        "In simple terms, It is the the collection or group of data in a particular structure.\n",
        "\n",
        "#### Lists\n",
        "Lists are the most commonly used data structure. Think of it as a sequence of data that is enclosed in square brackets and data are separated by a comma. Each of these data can be accessed by calling it's index value.\n",
        "\n",
        "Lists are declared by just equating a variable to '[ ]' or list."
      ]
    },
    {
      "cell_type": "code",
      "metadata": {
        "id": "FqP5l69FeSRq"
      },
      "source": [
        "a = []"
      ],
      "execution_count": null,
      "outputs": []
    },
    {
      "cell_type": "code",
      "metadata": {
        "id": "htMQilBpeSRr",
        "outputId": "3dc9d033-6041-432a-de86-33650420413d"
      },
      "source": [
        "print(type(a))"
      ],
      "execution_count": null,
      "outputs": [
        {
          "output_type": "stream",
          "text": [
            "<class 'list'>\n"
          ],
          "name": "stdout"
        }
      ]
    },
    {
      "cell_type": "code",
      "metadata": {
        "id": "U2XocWTweSR2"
      },
      "source": [
        "x = ['apple', 'orange', 'banana']"
      ],
      "execution_count": null,
      "outputs": []
    },
    {
      "cell_type": "code",
      "metadata": {
        "id": "wJmm18T7eSR3",
        "outputId": "42aa0028-f636-4d82-a8a6-c506c024766a"
      },
      "source": [
        "x[1]"
      ],
      "execution_count": null,
      "outputs": [
        {
          "output_type": "execute_result",
          "data": {
            "text/plain": [
              "'orange'"
            ]
          },
          "metadata": {
            "tags": []
          },
          "execution_count": 8
        }
      ]
    },
    {
      "cell_type": "code",
      "metadata": {
        "id": "La0z3hWCeSR4"
      },
      "source": [
        "## Indexing can also be done in reverse order. That is the last element can be accessed first.\n",
        "# Here, indexing starts from -1. Thus index value -1 will be orange and index -2 will be apple."
      ],
      "execution_count": null,
      "outputs": []
    },
    {
      "cell_type": "code",
      "metadata": {
        "id": "7Alhcea4eSR5",
        "outputId": "37a9f58a-8f0a-4646-f0ee-34dad918c2b0"
      },
      "source": [
        "x[-2]"
      ],
      "execution_count": null,
      "outputs": [
        {
          "output_type": "execute_result",
          "data": {
            "text/plain": [
              "'orange'"
            ]
          },
          "metadata": {
            "tags": []
          },
          "execution_count": 11
        }
      ]
    },
    {
      "cell_type": "markdown",
      "metadata": {
        "id": "CYyZUf36eSR5"
      },
      "source": [
        "As you might have already guessed, x[0] = x[-2], x[1] = x[-1]. This concept can be extended towards lists with more many elements."
      ]
    },
    {
      "cell_type": "code",
      "metadata": {
        "id": "eQu7PwOeeSR8"
      },
      "source": [
        "y = ['carrot','potato']"
      ],
      "execution_count": null,
      "outputs": []
    },
    {
      "cell_type": "code",
      "metadata": {
        "id": "IPhF36rSeSR9",
        "outputId": "ac279552-700b-44c6-edbd-424d539d6846"
      },
      "source": [
        "z  = [x,y]\n",
        "print(z)"
      ],
      "execution_count": null,
      "outputs": [
        {
          "output_type": "stream",
          "text": [
            "[['apple', 'orange', 'banana'], ['carrot', 'potato']]\n"
          ],
          "name": "stdout"
        }
      ]
    },
    {
      "cell_type": "code",
      "metadata": {
        "id": "x0dlJNu7eSR9",
        "outputId": "d709ce6e-7b90-4ebe-d69e-8cb5b39edf0b"
      },
      "source": [
        "z1 = z[0]\n",
        "print(z1)"
      ],
      "execution_count": null,
      "outputs": [
        {
          "output_type": "stream",
          "text": [
            "['apple', 'orange', 'banana']\n"
          ],
          "name": "stdout"
        }
      ]
    },
    {
      "cell_type": "code",
      "metadata": {
        "id": "wb5GMdLyeSR-",
        "outputId": "9c167c65-b8bc-4482-cf71-2416b92dd75f"
      },
      "source": [
        "z[0][0]"
      ],
      "execution_count": null,
      "outputs": [
        {
          "output_type": "execute_result",
          "data": {
            "text/plain": [
              "'apple'"
            ]
          },
          "metadata": {
            "tags": []
          },
          "execution_count": 15
        }
      ]
    },
    {
      "cell_type": "markdown",
      "metadata": {
        "id": "xoUzN-XkeSR-"
      },
      "source": [
        "## Slicing\n",
        "Indexing was only limited to accessing a single element, Slicing on the other hand is accessing a sequence of data inside the list. In other words \"slicing\" the list.\n",
        "\n",
        "Slicing is done by defining the index values of the first element and the last element from the parent list that is required in the sliced list. It is written as parentlist[ a : b ] where a,b are the index values from the parent list. If a or b is not defined then the index value is considered to be the first value for a if a is not defined and the last value for b when b is not defined."
      ]
    },
    {
      "cell_type": "code",
      "metadata": {
        "id": "Ur5ol3ejeSR_"
      },
      "source": [
        "num = [0,1,2,3,4,5,6,7,8,9]"
      ],
      "execution_count": null,
      "outputs": []
    },
    {
      "cell_type": "code",
      "metadata": {
        "id": "93CVViVHeSR_",
        "outputId": "fb642740-5c94-44a3-b1b3-015332618548"
      },
      "source": [
        "print(num[0:4])\n",
        "print(num[4:])"
      ],
      "execution_count": null,
      "outputs": [
        {
          "output_type": "stream",
          "text": [
            "[0, 1, 2, 3]\n",
            "[4, 5, 6, 7, 8, 9]\n"
          ],
          "name": "stdout"
        }
      ]
    },
    {
      "cell_type": "code",
      "metadata": {
        "id": "rHUpTo-IeSR_",
        "outputId": "dcf39359-a7c2-4b12-84ac-8b8f4cd0b532"
      },
      "source": [
        "num[:9:3]"
      ],
      "execution_count": null,
      "outputs": [
        {
          "output_type": "execute_result",
          "data": {
            "text/plain": [
              "[0, 3, 6]"
            ]
          },
          "metadata": {
            "tags": []
          },
          "execution_count": 18
        }
      ]
    },
    {
      "cell_type": "code",
      "metadata": {
        "id": "ZbERo66SeSSA",
        "outputId": "81b564c4-87ca-4566-b0f1-313dd7357840"
      },
      "source": [
        "len(num)"
      ],
      "execution_count": null,
      "outputs": [
        {
          "output_type": "execute_result",
          "data": {
            "text/plain": [
              "10"
            ]
          },
          "metadata": {
            "tags": []
          },
          "execution_count": 19
        }
      ]
    },
    {
      "cell_type": "code",
      "metadata": {
        "id": "re68SuCgeSSA",
        "outputId": "ee6de800-2991-4320-d56d-574ef0f4d5fe"
      },
      "source": [
        "min(num)"
      ],
      "execution_count": null,
      "outputs": [
        {
          "output_type": "execute_result",
          "data": {
            "text/plain": [
              "0"
            ]
          },
          "metadata": {
            "tags": []
          },
          "execution_count": 20
        }
      ]
    },
    {
      "cell_type": "code",
      "metadata": {
        "id": "Vy_SVizSeSSB",
        "outputId": "d2ccd234-a0ab-42ee-8b5e-5de5aa119dac"
      },
      "source": [
        "max(num)"
      ],
      "execution_count": null,
      "outputs": [
        {
          "output_type": "execute_result",
          "data": {
            "text/plain": [
              "9"
            ]
          },
          "metadata": {
            "tags": []
          },
          "execution_count": 21
        }
      ]
    },
    {
      "cell_type": "markdown",
      "metadata": {
        "id": "OVSzXvfueSSB"
      },
      "source": [
        "Lists can be concatenated by adding, '+' them. The resultant list will contain all the elements of the lists that were added. The resultant list will not be a nested list."
      ]
    },
    {
      "cell_type": "code",
      "metadata": {
        "id": "xLXaX6OQeSSB",
        "outputId": "26603412-d01a-4320-fd86-7c93c81f7f51"
      },
      "source": [
        "[1,2,3] + [5,4,7]"
      ],
      "execution_count": null,
      "outputs": [
        {
          "output_type": "execute_result",
          "data": {
            "text/plain": [
              "[1, 2, 3, 5, 4, 7]"
            ]
          },
          "metadata": {
            "tags": []
          },
          "execution_count": 23
        }
      ]
    },
    {
      "cell_type": "markdown",
      "metadata": {
        "id": "F7lpJKSmeSSB"
      },
      "source": [
        "There might arise a requirement where you might need to check if a particular element is there in a predefined list. Consider the below list."
      ]
    },
    {
      "cell_type": "code",
      "metadata": {
        "id": "G-SsBRHNeSSC"
      },
      "source": [
        "names = ['Earth','Air','Fire','Water']"
      ],
      "execution_count": null,
      "outputs": []
    },
    {
      "cell_type": "code",
      "metadata": {
        "id": "ShJs1rwseSSC",
        "outputId": "c89a1b83-77b1-448a-9b0e-ce49aebbf300"
      },
      "source": [
        "'Fire' in names"
      ],
      "execution_count": null,
      "outputs": [
        {
          "output_type": "execute_result",
          "data": {
            "text/plain": [
              "True"
            ]
          },
          "metadata": {
            "tags": []
          },
          "execution_count": 25
        }
      ]
    },
    {
      "cell_type": "code",
      "metadata": {
        "id": "g3TQvAz-eSSD",
        "outputId": "35644cd3-b5a6-4182-c3b0-cd3038497066"
      },
      "source": [
        "'Smith' in names"
      ],
      "execution_count": null,
      "outputs": [
        {
          "output_type": "execute_result",
          "data": {
            "text/plain": [
              "False"
            ]
          },
          "metadata": {
            "tags": []
          },
          "execution_count": 26
        }
      ]
    },
    {
      "cell_type": "markdown",
      "metadata": {
        "id": "pCc5ci2teSSD"
      },
      "source": [
        "## Append "
      ]
    },
    {
      "cell_type": "code",
      "metadata": {
        "id": "q6q4wf60eSSD"
      },
      "source": [
        "lst = [1,1,4,8,7]"
      ],
      "execution_count": null,
      "outputs": []
    },
    {
      "cell_type": "code",
      "metadata": {
        "id": "_UOSAJFceSSE",
        "outputId": "b84832af-8585-46fe-8066-a23689d86e10"
      },
      "source": [
        "\n",
        "lst.append(1)\n",
        "print(lst)"
      ],
      "execution_count": null,
      "outputs": [
        {
          "output_type": "stream",
          "text": [
            "[1, 1, 4, 8, 7, 1, 1]\n"
          ],
          "name": "stdout"
        }
      ]
    },
    {
      "cell_type": "code",
      "metadata": {
        "id": "PhdqHpqUeSSE",
        "outputId": "71568198-4eea-48d6-f551-1a81ee5c1af6"
      },
      "source": [
        "lst.count(1)"
      ],
      "execution_count": null,
      "outputs": [
        {
          "output_type": "execute_result",
          "data": {
            "text/plain": [
              "3"
            ]
          },
          "metadata": {
            "tags": []
          },
          "execution_count": 29
        }
      ]
    },
    {
      "cell_type": "markdown",
      "metadata": {
        "id": "sVSXJctJeSSE"
      },
      "source": [
        "append( ) function can also be used to add a entire list at the end. Observe that the resultant list becomes a nested list."
      ]
    },
    {
      "cell_type": "code",
      "metadata": {
        "id": "cxMX_Ey5eSSF"
      },
      "source": [
        "lst1 = [5,4,2,8]"
      ],
      "execution_count": null,
      "outputs": []
    },
    {
      "cell_type": "code",
      "metadata": {
        "id": "Ug1_sFereSSF",
        "outputId": "c04f3b88-a6b7-49d3-8e66-b68e1fc54d1d"
      },
      "source": [
        "lst.append(lst1)\n",
        "print(lst)"
      ],
      "execution_count": null,
      "outputs": [
        {
          "output_type": "stream",
          "text": [
            "[1, 1, 4, 8, 7, 1, 1, [5, 4, 2, 8]]\n"
          ],
          "name": "stdout"
        }
      ]
    },
    {
      "cell_type": "markdown",
      "metadata": {
        "id": "kAjgDUi3eSSF"
      },
      "source": [
        "But if nested list is not what is desired then extend( ) function can be used."
      ]
    },
    {
      "cell_type": "code",
      "metadata": {
        "id": "5UCVVik3eSSF",
        "outputId": "b3b183e7-4546-4bac-fb95-ce0d05310956"
      },
      "source": [
        "lst.extend(lst1)\n",
        "print(lst)"
      ],
      "execution_count": null,
      "outputs": [
        {
          "output_type": "stream",
          "text": [
            "[1, 1, 4, 8, 7, 1, 1, [5, 4, 2, 8], 5, 4, 2, 8]\n"
          ],
          "name": "stdout"
        }
      ]
    },
    {
      "cell_type": "code",
      "metadata": {
        "id": "RUPUlmk2eSSF",
        "outputId": "ca063c19-be19-423e-d4c2-1813847b050c"
      },
      "source": [
        "lst.index(8)"
      ],
      "execution_count": null,
      "outputs": [
        {
          "output_type": "execute_result",
          "data": {
            "text/plain": [
              "3"
            ]
          },
          "metadata": {
            "tags": []
          },
          "execution_count": 37
        }
      ]
    },
    {
      "cell_type": "markdown",
      "metadata": {
        "id": "F7svbNF_eSSG"
      },
      "source": [
        "insert(x,y) is used to insert a element y at a specified index value x. append( ) function made it only possible to insert at the end."
      ]
    },
    {
      "cell_type": "code",
      "metadata": {
        "id": "7zDKtbdxeSSG",
        "outputId": "0f18b73f-2be0-4822-c93c-8a535f784a7a"
      },
      "source": [
        "lst.insert(5, 'name')\n",
        "print(lst)"
      ],
      "execution_count": null,
      "outputs": [
        {
          "output_type": "stream",
          "text": [
            "[1, 1, 4, 8, 7, 'name', 1, 1, [5, 4, 2, 8], 5, 4, 2, 8]\n"
          ],
          "name": "stdout"
        }
      ]
    },
    {
      "cell_type": "markdown",
      "metadata": {
        "id": "C2V-XeRweSSG"
      },
      "source": [
        "insert(x,y) inserts but does not replace element. If you want to replace the element with another element you simply assign the value to that particular index."
      ]
    },
    {
      "cell_type": "code",
      "metadata": {
        "id": "Q0NxQvudeSSG",
        "outputId": "3a569f1c-1998-4cd0-8930-5d606ea10e3f"
      },
      "source": [
        "lst[5] = 'Python'\n",
        "print(lst)"
      ],
      "execution_count": null,
      "outputs": [
        {
          "output_type": "stream",
          "text": [
            "[1, 1, 4, 8, 7, 'Python', 1, 1, [5, 4, 2, 8], 5, 4, 2, 8]\n"
          ],
          "name": "stdout"
        }
      ]
    },
    {
      "cell_type": "markdown",
      "metadata": {
        "id": "IiuTe7Z_eSSG"
      },
      "source": [
        "pop( ) function return the last element in the list. This is similar to the operation of a stack. Hence it wouldn't be wrong to tell that lists can be used as a stack."
      ]
    },
    {
      "cell_type": "code",
      "metadata": {
        "id": "6UQI6S50eSSH",
        "outputId": "4d3f7589-0841-4126-8309-0c7bebc79fdc"
      },
      "source": [
        "lst.pop()"
      ],
      "execution_count": null,
      "outputs": [
        {
          "output_type": "execute_result",
          "data": {
            "text/plain": [
              "8"
            ]
          },
          "metadata": {
            "tags": []
          },
          "execution_count": 41
        }
      ]
    },
    {
      "cell_type": "markdown",
      "metadata": {
        "id": "8ajnfQIceSSH"
      },
      "source": [
        "Index value can be specified to pop a ceratin element corresponding to that index value."
      ]
    },
    {
      "cell_type": "code",
      "metadata": {
        "id": "IfzKfAcVeSSI",
        "outputId": "f1a4cf90-4dfc-46d8-a973-0bb96b241c66"
      },
      "source": [
        "lst.pop(0)"
      ],
      "execution_count": null,
      "outputs": [
        {
          "output_type": "execute_result",
          "data": {
            "text/plain": [
              "1"
            ]
          },
          "metadata": {
            "tags": []
          },
          "execution_count": 42
        }
      ]
    },
    {
      "cell_type": "code",
      "metadata": {
        "id": "82FNOb1meSSI",
        "outputId": "f8d6efb1-c4df-4029-8148-bc01f2420239"
      },
      "source": [
        "print(lst)"
      ],
      "execution_count": null,
      "outputs": [
        {
          "output_type": "stream",
          "text": [
            "[1, 4, 8, 7, 'Python', 1, 1, [5, 4, 2, 8], 5, 4, 2]\n"
          ],
          "name": "stdout"
        }
      ]
    },
    {
      "cell_type": "markdown",
      "metadata": {
        "id": "0BQPM2TdeSSJ"
      },
      "source": [
        "pop( ) is used to remove element based on it's index value which can be assigned to a variable. One can also remove element by specifying the element itself using the remove( ) function."
      ]
    },
    {
      "cell_type": "code",
      "metadata": {
        "id": "_bDwSQ5ieSSJ",
        "outputId": "9bd3e932-000d-40c3-b3ce-4445ed649ae3"
      },
      "source": [
        "lst.remove('Python')\n",
        "print(lst)"
      ],
      "execution_count": null,
      "outputs": [
        {
          "output_type": "stream",
          "text": [
            "[1, 4, 8, 7, 1, 1, [5, 4, 2, 8], 5, 4, 2]\n"
          ],
          "name": "stdout"
        }
      ]
    },
    {
      "cell_type": "code",
      "metadata": {
        "id": "m622TUd_eSSJ",
        "outputId": "429f1147-f262-4d97-8245-a53318db6f18"
      },
      "source": [
        "del(lst[1])\n",
        "print(lst)"
      ],
      "execution_count": null,
      "outputs": [
        {
          "output_type": "stream",
          "text": [
            "[1, 8, 7, 1, 1, [5, 4, 2, 8], 5, 4, 2]\n"
          ],
          "name": "stdout"
        }
      ]
    },
    {
      "cell_type": "markdown",
      "metadata": {
        "id": "aume6NX_eSSJ"
      },
      "source": [
        "The entire elements present in the list can be reversed by using the reverse() function."
      ]
    },
    {
      "cell_type": "code",
      "metadata": {
        "id": "0f549HQReSSJ",
        "outputId": "a1264e20-c8f2-40b1-ad88-76d1bbf2d2c3"
      },
      "source": [
        "lst.reverse()\n",
        "print(lst)"
      ],
      "execution_count": null,
      "outputs": [
        {
          "output_type": "stream",
          "text": [
            "[2, 4, 5, [5, 4, 2, 8], 1, 1, 7, 8, 1]\n"
          ],
          "name": "stdout"
        }
      ]
    },
    {
      "cell_type": "markdown",
      "metadata": {
        "id": "FzoMHJDseSSK"
      },
      "source": [
        "Note that the nested list [5,4,2,8] is treated as a single element of the parent list lst. Thus the elements inside the nested list is not reversed.\n",
        "\n",
        "Python offers built in operation sort( ) to arrange the elements in ascending order."
      ]
    },
    {
      "cell_type": "markdown",
      "metadata": {
        "id": "CcIe46PJeSSK"
      },
      "source": [
        "## Build In Function\n"
      ]
    },
    {
      "cell_type": "code",
      "metadata": {
        "id": "QgE7aLUJeSSK"
      },
      "source": [
        "set1 = set([1,2,3])\n",
        "set2 = set([2,3,4,5])"
      ],
      "execution_count": null,
      "outputs": []
    },
    {
      "cell_type": "code",
      "metadata": {
        "id": "U4-QrkOveSSK",
        "outputId": "e69b83be-bf29-4f5c-a8f6-dce5a5b268e1"
      },
      "source": [
        "# union( ) function returns a set which contains all the elements of both the sets without repition.\n",
        "\n",
        "set1.union(set2)"
      ],
      "execution_count": null,
      "outputs": [
        {
          "output_type": "execute_result",
          "data": {
            "text/plain": [
              "{1, 2, 3, 4, 5}"
            ]
          },
          "metadata": {
            "tags": []
          },
          "execution_count": 53
        }
      ]
    },
    {
      "cell_type": "code",
      "metadata": {
        "id": "1WoYV9SveSSK",
        "outputId": "3fe73d70-c982-4699-d071-83b5576476ec"
      },
      "source": [
        "set1.add(0)\n",
        "set1"
      ],
      "execution_count": null,
      "outputs": [
        {
          "output_type": "execute_result",
          "data": {
            "text/plain": [
              "{0, 1, 2, 3}"
            ]
          },
          "metadata": {
            "tags": []
          },
          "execution_count": 54
        }
      ]
    },
    {
      "cell_type": "code",
      "metadata": {
        "id": "f2MxDymZeSSL",
        "outputId": "df6bc872-c920-40be-9990-288cdf76cfb7"
      },
      "source": [
        "set1.intersection(set2)"
      ],
      "execution_count": null,
      "outputs": [
        {
          "output_type": "execute_result",
          "data": {
            "text/plain": [
              "{2, 3}"
            ]
          },
          "metadata": {
            "tags": []
          },
          "execution_count": 55
        }
      ]
    },
    {
      "cell_type": "code",
      "metadata": {
        "id": "hlBxrivGeSSL",
        "outputId": "9786cfa4-7fa7-4ea5-e728-b3ae0abc7357"
      },
      "source": [
        "set1.difference(set2)"
      ],
      "execution_count": null,
      "outputs": [
        {
          "output_type": "execute_result",
          "data": {
            "text/plain": [
              "{0, 1}"
            ]
          },
          "metadata": {
            "tags": []
          },
          "execution_count": 56
        }
      ]
    },
    {
      "cell_type": "code",
      "metadata": {
        "id": "9db-ELz4eSSL",
        "outputId": "2a61ba81-9b9a-4154-8d95-da58a9a67a44"
      },
      "source": [
        "set1.issubset(set2)"
      ],
      "execution_count": null,
      "outputs": [
        {
          "output_type": "execute_result",
          "data": {
            "text/plain": [
              "False"
            ]
          },
          "metadata": {
            "tags": []
          },
          "execution_count": 57
        }
      ]
    },
    {
      "cell_type": "code",
      "metadata": {
        "id": "UDav5HD-eSSL"
      },
      "source": [
        ""
      ],
      "execution_count": null,
      "outputs": []
    }
  ]
}