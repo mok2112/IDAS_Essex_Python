{
  "nbformat": 4,
  "nbformat_minor": 0,
  "metadata": {
    "colab": {
      "name": "Test.ipynb",
      "provenance": [],
      "authorship_tag": "ABX9TyMJ7F9S2DHE1tCkZ3CrKVF3",
      "include_colab_link": true
    },
    "kernelspec": {
      "name": "python3",
      "display_name": "Python 3"
    },
    "language_info": {
      "name": "python"
    }
  },
  "cells": [
    {
      "cell_type": "markdown",
      "metadata": {
        "id": "view-in-github",
        "colab_type": "text"
      },
      "source": [
        "<a href=\"https://colab.research.google.com/github/mok2112/IDAS_Essex_Python/blob/main/Test.ipynb\" target=\"_parent\"><img src=\"https://colab.research.google.com/assets/colab-badge.svg\" alt=\"Open In Colab\"/></a>"
      ]
    },
    {
      "cell_type": "markdown",
      "metadata": {
        "id": "c_OkOgY5BqLT"
      },
      "source": [
        "# IADS Summer School\n",
        "## Hello Everyone\n",
        "### Hi\n",
        "\n",
        "This is my **first** code in Python\n",
        "\n",
        "1.   First\n",
        "2.   Second"
      ]
    },
    {
      "cell_type": "code",
      "metadata": {
        "id": "eSFpRYPqCAkc"
      },
      "source": [
        ""
      ],
      "execution_count": null,
      "outputs": []
    }
  ]
}